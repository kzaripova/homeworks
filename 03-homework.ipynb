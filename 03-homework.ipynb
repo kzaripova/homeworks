{
 "cells": [
  {
   "cell_type": "markdown",
   "id": "7d95f3ac-7165-4adb-a763-1e7c157d767d",
   "metadata": {},
   "source": [
    "# Easy\n",
    "Открыть набор данных dota_hero_stats.csv из папки data.\n",
    "\n",
    "Данные взяты отсюда, на этом же сайте можно найти больше разнообразных данных по Dota2.\n",
    "\n",
    "Пересчитаем число ног у героев игры Dota2! Сгруппируйте героев из датасэта по числу их ног (колонка legs), и посчитайте количество героев для каждого значения legs"
   ]
  },
  {
   "cell_type": "code",
   "execution_count": 14,
   "id": "52103f6c-0398-4ad7-88e3-5810ea3502b5",
   "metadata": {},
   "outputs": [],
   "source": [
    "import pandas as pd\n",
    "import numpy as np"
   ]
  },
  {
   "cell_type": "code",
   "execution_count": 23,
   "id": "4ca1cabd-ed77-4d54-a24f-4d91f7f6e3b9",
   "metadata": {},
   "outputs": [],
   "source": [
    "import requests\n",
    "import json\n",
    "link = 'https://api.opendota.com/api/heroes'\n",
    "r = requests.get(link)\n",
    "data = json.loads(r.text)"
   ]
  },
  {
   "cell_type": "code",
   "execution_count": 146,
   "id": "9b0b283f-66e1-4413-9884-90d10e76ed06",
   "metadata": {},
   "outputs": [
    {
     "data": {
      "text/html": [
       "<div>\n",
       "<style scoped>\n",
       "    .dataframe tbody tr th:only-of-type {\n",
       "        vertical-align: middle;\n",
       "    }\n",
       "\n",
       "    .dataframe tbody tr th {\n",
       "        vertical-align: top;\n",
       "    }\n",
       "\n",
       "    .dataframe thead th {\n",
       "        text-align: right;\n",
       "    }\n",
       "</style>\n",
       "<table border=\"1\" class=\"dataframe\">\n",
       "  <thead>\n",
       "    <tr style=\"text-align: right;\">\n",
       "      <th></th>\n",
       "      <th>localized_name</th>\n",
       "      <th>legs</th>\n",
       "    </tr>\n",
       "  </thead>\n",
       "  <tbody>\n",
       "    <tr>\n",
       "      <th>0</th>\n",
       "      <td>Anti-Mage</td>\n",
       "      <td>2</td>\n",
       "    </tr>\n",
       "    <tr>\n",
       "      <th>1</th>\n",
       "      <td>Axe</td>\n",
       "      <td>2</td>\n",
       "    </tr>\n",
       "    <tr>\n",
       "      <th>2</th>\n",
       "      <td>Bane</td>\n",
       "      <td>4</td>\n",
       "    </tr>\n",
       "    <tr>\n",
       "      <th>3</th>\n",
       "      <td>Bloodseeker</td>\n",
       "      <td>2</td>\n",
       "    </tr>\n",
       "    <tr>\n",
       "      <th>4</th>\n",
       "      <td>Crystal Maiden</td>\n",
       "      <td>2</td>\n",
       "    </tr>\n",
       "  </tbody>\n",
       "</table>\n",
       "</div>"
      ],
      "text/plain": [
       "   localized_name  legs\n",
       "0       Anti-Mage     2\n",
       "1             Axe     2\n",
       "2            Bane     4\n",
       "3     Bloodseeker     2\n",
       "4  Crystal Maiden     2"
      ]
     },
     "execution_count": 146,
     "metadata": {},
     "output_type": "execute_result"
    }
   ],
   "source": [
    "df = pd.DataFrame(data)\n",
    "a = df[['localized_name', 'legs']]\n",
    "a.head()"
   ]
  },
  {
   "cell_type": "code",
   "execution_count": 153,
   "id": "5f0c4504-9481-44bb-9b0c-7207cf2eff8e",
   "metadata": {},
   "outputs": [
    {
     "data": {
      "text/html": [
       "<div>\n",
       "<style scoped>\n",
       "    .dataframe tbody tr th:only-of-type {\n",
       "        vertical-align: middle;\n",
       "    }\n",
       "\n",
       "    .dataframe tbody tr th {\n",
       "        vertical-align: top;\n",
       "    }\n",
       "\n",
       "    .dataframe thead tr th {\n",
       "        text-align: left;\n",
       "    }\n",
       "\n",
       "    .dataframe thead tr:last-of-type th {\n",
       "        text-align: right;\n",
       "    }\n",
       "</style>\n",
       "<table border=\"1\" class=\"dataframe\">\n",
       "  <thead>\n",
       "    <tr>\n",
       "      <th></th>\n",
       "      <th>localized_name</th>\n",
       "    </tr>\n",
       "    <tr>\n",
       "      <th></th>\n",
       "      <th>count</th>\n",
       "    </tr>\n",
       "    <tr>\n",
       "      <th>legs</th>\n",
       "      <th></th>\n",
       "    </tr>\n",
       "  </thead>\n",
       "  <tbody>\n",
       "    <tr>\n",
       "      <th>0</th>\n",
       "      <td>14</td>\n",
       "    </tr>\n",
       "    <tr>\n",
       "      <th>2</th>\n",
       "      <td>97</td>\n",
       "    </tr>\n",
       "    <tr>\n",
       "      <th>4</th>\n",
       "      <td>8</td>\n",
       "    </tr>\n",
       "    <tr>\n",
       "      <th>6</th>\n",
       "      <td>3</td>\n",
       "    </tr>\n",
       "    <tr>\n",
       "      <th>8</th>\n",
       "      <td>1</td>\n",
       "    </tr>\n",
       "  </tbody>\n",
       "</table>\n",
       "</div>"
      ],
      "text/plain": [
       "     localized_name\n",
       "              count\n",
       "legs               \n",
       "0                14\n",
       "2                97\n",
       "4                 8\n",
       "6                 3\n",
       "8                 1"
      ]
     },
     "execution_count": 153,
     "metadata": {},
     "output_type": "execute_result"
    }
   ],
   "source": [
    "a.groupby([\"legs\"]).agg({'localized_name':['count']}) "
   ]
  },
  {
   "cell_type": "markdown",
   "id": "c1174d1c-8530-497c-8e8c-03056847e0ff",
   "metadata": {},
   "source": [
    "# Normal\n",
    "Продолжим исследование героев Dota2. Сгруппируйте по колонкам attack_type и primary_attr и выберите самый распространённый набор характеристик. Выведите список героев с этим набором характеристик"
   ]
  },
  {
   "cell_type": "code",
   "execution_count": 178,
   "id": "99a7b254-a51f-4ddf-96a4-56fa0c0d8e32",
   "metadata": {},
   "outputs": [
    {
     "name": "stdout",
     "output_type": "stream",
     "text": [
      "    localized_name attack_type primary_attr\n",
      "0        Anti-Mage       Melee          agi\n",
      "3      Bloodseeker       Melee          agi\n",
      "7       Juggernaut       Melee          agi\n",
      "11  Phantom Lancer       Melee          agi\n",
      "30            Riki       Melee          agi\n"
     ]
    }
   ],
   "source": [
    "df = pd.DataFrame(data)\n",
    "b = df[['localized_name', 'attack_type', 'primary_attr']]\n",
    "for localized_name, group in b.groupby([\"attack_type\", \"primary_attr\"]):\n",
    "    print(group.head())\n",
    "    break"
   ]
  },
  {
   "cell_type": "code",
   "execution_count": 243,
   "id": "d1e84e16-0317-431f-93a9-cc4cc91625c6",
   "metadata": {},
   "outputs": [
    {
     "data": {
      "text/html": [
       "<div>\n",
       "<style scoped>\n",
       "    .dataframe tbody tr th:only-of-type {\n",
       "        vertical-align: middle;\n",
       "    }\n",
       "\n",
       "    .dataframe tbody tr th {\n",
       "        vertical-align: top;\n",
       "    }\n",
       "\n",
       "    .dataframe thead tr th {\n",
       "        text-align: left;\n",
       "    }\n",
       "\n",
       "    .dataframe thead tr:last-of-type th {\n",
       "        text-align: right;\n",
       "    }\n",
       "</style>\n",
       "<table border=\"1\" class=\"dataframe\">\n",
       "  <thead>\n",
       "    <tr>\n",
       "      <th></th>\n",
       "      <th></th>\n",
       "      <th>localized_name</th>\n",
       "    </tr>\n",
       "    <tr>\n",
       "      <th></th>\n",
       "      <th></th>\n",
       "      <th>count</th>\n",
       "    </tr>\n",
       "    <tr>\n",
       "      <th>attack_type</th>\n",
       "      <th>primary_attr</th>\n",
       "      <th></th>\n",
       "    </tr>\n",
       "  </thead>\n",
       "  <tbody>\n",
       "    <tr>\n",
       "      <th rowspan=\"3\" valign=\"top\">Melee</th>\n",
       "      <th>agi</th>\n",
       "      <td>19</td>\n",
       "    </tr>\n",
       "    <tr>\n",
       "      <th>int</th>\n",
       "      <td>3</td>\n",
       "    </tr>\n",
       "    <tr>\n",
       "      <th>str</th>\n",
       "      <td>38</td>\n",
       "    </tr>\n",
       "    <tr>\n",
       "      <th rowspan=\"3\" valign=\"top\">Ranged</th>\n",
       "      <th>agi</th>\n",
       "      <td>19</td>\n",
       "    </tr>\n",
       "    <tr>\n",
       "      <th>int</th>\n",
       "      <td>40</td>\n",
       "    </tr>\n",
       "    <tr>\n",
       "      <th>str</th>\n",
       "      <td>4</td>\n",
       "    </tr>\n",
       "  </tbody>\n",
       "</table>\n",
       "</div>"
      ],
      "text/plain": [
       "                         localized_name\n",
       "                                  count\n",
       "attack_type primary_attr               \n",
       "Melee       agi                      19\n",
       "            int                       3\n",
       "            str                      38\n",
       "Ranged      agi                      19\n",
       "            int                      40\n",
       "            str                       4"
      ]
     },
     "execution_count": 243,
     "metadata": {},
     "output_type": "execute_result"
    }
   ],
   "source": [
    "b.groupby([\"attack_type\", \"primary_attr\"]).agg(['count'])"
   ]
  },
  {
   "cell_type": "code",
   "execution_count": 244,
   "id": "3af03aa9-7f14-40d4-b572-45163d91baed",
   "metadata": {},
   "outputs": [
    {
     "data": {
      "text/plain": [
       "2                     Bane\n",
       "4           Crystal Maiden\n",
       "12                    Puck\n",
       "16            Storm Spirit\n",
       "20              Windranger\n",
       "21                    Zeus\n",
       "23                    Lina\n",
       "24                    Lion\n",
       "25           Shadow Shaman\n",
       "28            Witch Doctor\n",
       "29                    Lich\n",
       "31                  Enigma\n",
       "32                  Tinker\n",
       "34               Necrophos\n",
       "35                 Warlock\n",
       "37           Queen of Pain\n",
       "41           Death Prophet\n",
       "43                   Pugna\n",
       "48                  Dazzle\n",
       "50                 Leshrac\n",
       "51        Nature's Prophet\n",
       "56             Enchantress\n",
       "62                  Jakiro\n",
       "63                Batrider\n",
       "64                    Chen\n",
       "66      Ancient Apparition\n",
       "72                 Invoker\n",
       "73                Silencer\n",
       "74      Outworld Destroyer\n",
       "77            Shadow Demon\n",
       "84                  Rubick\n",
       "85               Disruptor\n",
       "88     Keeper of the Light\n",
       "90                  Visage\n",
       "99           Skywrath Mage\n",
       "103                Techies\n",
       "109                 Oracle\n",
       "110          Winter Wyvern\n",
       "113            Dark Willow\n",
       "115             Grimstroke\n",
       "Name: localized_name, dtype: object"
      ]
     },
     "execution_count": 244,
     "metadata": {},
     "output_type": "execute_result"
    }
   ],
   "source": [
    "b.loc[(b['attack_type'] == 'Ranged') & (b['primary_attr'] == 'int'), 'localized_name']"
   ]
  },
  {
   "cell_type": "code",
   "execution_count": null,
   "id": "8a8e6c57-1c5e-4cd3-b967-2bdd039986a5",
   "metadata": {},
   "outputs": [],
   "source": []
  }
 ],
 "metadata": {
  "kernelspec": {
   "display_name": "Python 3 (ipykernel)",
   "language": "python",
   "name": "python3"
  },
  "language_info": {
   "codemirror_mode": {
    "name": "ipython",
    "version": 3
   },
   "file_extension": ".py",
   "mimetype": "text/x-python",
   "name": "python",
   "nbconvert_exporter": "python",
   "pygments_lexer": "ipython3",
   "version": "3.10.9"
  }
 },
 "nbformat": 4,
 "nbformat_minor": 5
}
