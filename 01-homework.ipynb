{
 "cells": [
  {
   "cell_type": "code",
   "execution_count": 4,
   "id": "c38d91c7-49f8-469a-bf64-3963f450abb3",
   "metadata": {},
   "outputs": [
    {
     "name": "stdin",
     "output_type": "stream",
     "text": [
      " 1\n",
      " 13\n",
      " 5\n",
      " 8\n",
      " 15\n"
     ]
    },
    {
     "name": "stdout",
     "output_type": "stream",
     "text": [
      "Наименьшее число = 1\n"
     ]
    }
   ],
   "source": [
    "a = int(input())\n",
    "b = int(input())\n",
    "c = int(input())\n",
    "d = int(input())\n",
    "e = int(input())\n",
    "if a > b:\n",
    "    print(a == b)\n",
    "if c > d: \n",
    "    print(c == d)\n",
    "if a > c:\n",
    "    print(a == c)\n",
    "if a > e:\n",
    "    print(\"Наименьшее число =\", e)\n",
    "else:\n",
    "    print(\"Наименьшее число =\", a)"
   ]
  },
  {
   "cell_type": "code",
   "execution_count": null,
   "id": "080de21d-4883-459a-a3b4-58ca94b516ff",
   "metadata": {},
   "outputs": [],
   "source": []
  }
 ],
 "metadata": {
  "kernelspec": {
   "display_name": "Python 3 (ipykernel)",
   "language": "python",
   "name": "python3"
  },
  "language_info": {
   "codemirror_mode": {
    "name": "ipython",
    "version": 3
   },
   "file_extension": ".py",
   "mimetype": "text/x-python",
   "name": "python",
   "nbconvert_exporter": "python",
   "pygments_lexer": "ipython3",
   "version": "3.10.9"
  }
 },
 "nbformat": 4,
 "nbformat_minor": 5
}
