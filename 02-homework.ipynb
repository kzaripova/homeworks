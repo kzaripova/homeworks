{
 "cells": [
  {
   "cell_type": "markdown",
   "id": "e1c943a7-5e66-48eb-8321-205704d1c9fd",
   "metadata": {},
   "source": [
    "#### Вычислите 2^179. Выведите на экран вычисленное значение.\n"
   ]
  },
  {
   "cell_type": "code",
   "execution_count": 1,
   "id": "fb24abb2-bb6a-48c7-aaf8-d81997ff630b",
   "metadata": {},
   "outputs": [
    {
     "data": {
      "text/plain": [
       "766247770432944429179173513575154591809369561091801088"
      ]
     },
     "execution_count": 1,
     "metadata": {},
     "output_type": "execute_result"
    }
   ],
   "source": [
    "2**179"
   ]
  },
  {
   "cell_type": "markdown",
   "id": "e15f2e02-3f98-4f81-9ccc-c7131f32e59f",
   "metadata": {},
   "source": [
    "#### Вычислите длину гипотенузы в прямоугольном треугольнике со сторонами 179 и 971."
   ]
  },
  {
   "cell_type": "code",
   "execution_count": 5,
   "id": "2f4c2fdb-9372-4196-9d22-73e41ecd2945",
   "metadata": {},
   "outputs": [
    {
     "data": {
      "text/plain": [
       "974882"
      ]
     },
     "execution_count": 5,
     "metadata": {},
     "output_type": "execute_result"
    }
   ],
   "source": [
    "a = 179\n",
    "b = 971\n",
    "a**2 + b**2\n"
   ]
  },
  {
   "cell_type": "markdown",
   "id": "c72983ec-a462-4a1d-9f90-a438e0d565e7",
   "metadata": {},
   "source": [
    "#### Дано два числа a и b. Выведите гипотенузу треугольника с заданными катетами."
   ]
  },
  {
   "cell_type": "code",
   "execution_count": 7,
   "id": "65ab9c4d-cadc-415f-9e57-bc1e81663112",
   "metadata": {},
   "outputs": [
    {
     "name": "stdin",
     "output_type": "stream",
     "text": [
      " 4\n",
      " 2\n"
     ]
    },
    {
     "data": {
      "text/plain": [
       "20"
      ]
     },
     "execution_count": 7,
     "metadata": {},
     "output_type": "execute_result"
    }
   ],
   "source": [
    "a = int(input())\n",
    "b = int(input())\n",
    "a**2 + b**2"
   ]
  },
  {
   "cell_type": "markdown",
   "id": "fd951bb5-2de8-46a7-81d5-d00acc61e0d9",
   "metadata": {},
   "source": [
    "#### Напишите программу, которая приветствует пользователя, выводя слово Hello, введенное имя и знаки препинания по образцу (см. пример входных и выходных данных). Программа должна считывать в строковую переменную значение и писать соответствующее приветствие. Обратите внимание, что после запятой должен обязательно стоять пробел, а перед восклицательным знаком пробела нет.\n"
   ]
  },
  {
   "cell_type": "code",
   "execution_count": 9,
   "id": "1edb8dcc-6731-40b6-9058-69cc6bab695a",
   "metadata": {},
   "outputs": [
    {
     "name": "stdin",
     "output_type": "stream",
     "text": [
      " Harry\n"
     ]
    },
    {
     "name": "stdout",
     "output_type": "stream",
     "text": [
      "Hello, Harry!\n"
     ]
    }
   ],
   "source": [
    "str = \"Hello, \"\n",
    "name = input()\n",
    "print(str + name + \"!\")"
   ]
  },
  {
   "cell_type": "markdown",
   "id": "8968389b-7716-4b2c-950b-14f19050a1c6",
   "metadata": {},
   "source": [
    "#### Даны два целых числа. Программа должна вывести число 1, если первое число больше второго, число 2, если второе больше первого или число 0, если они равны."
   ]
  },
  {
   "cell_type": "code",
   "execution_count": 12,
   "id": "61a3a6c4-8220-447a-90b4-5ae71014f2b7",
   "metadata": {},
   "outputs": [
    {
     "name": "stdin",
     "output_type": "stream",
     "text": [
      " 5\n",
      " 5\n"
     ]
    },
    {
     "name": "stdout",
     "output_type": "stream",
     "text": [
      "0\n"
     ]
    }
   ],
   "source": [
    "a = int(input())\n",
    "b = int(input())\n",
    "if a > b:\n",
    "    print(1)\n",
    "elif b > a:\n",
    "    print(2)\n",
    "else: \n",
    "    print(0)"
   ]
  },
  {
   "cell_type": "markdown",
   "id": "8618b6c9-701b-4c8c-9840-7cf5156406c5",
   "metadata": {},
   "source": [
    "#### Задача №3503. Знак числа"
   ]
  },
  {
   "cell_type": "code",
   "execution_count": 16,
   "id": "8ffd77c3-18d8-413d-9511-78ae2bba3263",
   "metadata": {},
   "outputs": [
    {
     "name": "stdin",
     "output_type": "stream",
     "text": [
      " -8\n"
     ]
    },
    {
     "name": "stdout",
     "output_type": "stream",
     "text": [
      "-1\n"
     ]
    }
   ],
   "source": [
    "num = int(input())\n",
    "if num > 0:\n",
    "    print(1)\n",
    "elif num < 0:\n",
    "    print(-1)\n",
    "else:\n",
    "    print(0)"
   ]
  },
  {
   "cell_type": "markdown",
   "id": "095a79fa-3097-4aec-b077-d92c242024bc",
   "metadata": {},
   "source": [
    "#### Задача №3735. Делаем срезы"
   ]
  },
  {
   "cell_type": "code",
   "execution_count": 26,
   "id": "e776798b-1182-4fbb-be36-f77371db42cb",
   "metadata": {},
   "outputs": [
    {
     "name": "stdout",
     "output_type": "stream",
     "text": [
      "r\n",
      "r\n",
      "Abrak\n",
      "Abrakadab\n",
      "Arkdba\n",
      "baaar\n",
      "arbadakarbA\n",
      "abdkrA\n",
      "11\n"
     ]
    }
   ],
   "source": [
    "string = \"Abrakadabra\"\n",
    "print(string[2])\n",
    "print(string[-2])\n",
    "print(string[:5])\n",
    "print(string[:-2])\n",
    "print(string[::2])\n",
    "print(string[1::2])\n",
    "print(string[::-1])\n",
    "print(string[::-2])\n",
    "print(len(string))"
   ]
  },
  {
   "cell_type": "markdown",
   "id": "9f1d828c-642a-437a-9e36-d2adbad1bca2",
   "metadata": {},
   "source": [
    "#### Задача №3736. Количество слов"
   ]
  },
  {
   "cell_type": "code",
   "execution_count": 49,
   "id": "abcdad7a-6e38-4fcd-b7a0-771e04a0d655",
   "metadata": {},
   "outputs": [
    {
     "name": "stdin",
     "output_type": "stream",
     "text": [
      " Hello world\n"
     ]
    },
    {
     "name": "stdout",
     "output_type": "stream",
     "text": [
      "2\n"
     ]
    }
   ],
   "source": [
    "s = input(\"\")\n",
    "print(s.count(\" \") + 1)\n"
   ]
  },
  {
   "cell_type": "markdown",
   "id": "d49197d0-3c82-4b1f-af93-e0723feb7e98",
   "metadata": {},
   "source": [
    "#### Задача №111300. ASCII-код символа\n"
   ]
  },
  {
   "cell_type": "code",
   "execution_count": 55,
   "id": "762113d6-b195-4464-b6ec-278931e577e1",
   "metadata": {},
   "outputs": [
    {
     "name": "stdin",
     "output_type": "stream",
     "text": [
      " A\n"
     ]
    },
    {
     "name": "stdout",
     "output_type": "stream",
     "text": [
      "65\n"
     ]
    }
   ],
   "source": [
    "symbol = input()\n",
    "print(ord(symbol))\n"
   ]
  },
  {
   "cell_type": "markdown",
   "id": "7b68a255-3bba-4b6e-a2f5-219283e3a6bc",
   "metadata": {
    "tags": []
   },
   "source": [
    "#### Задача №111301. Символ с данным ASCII-кодом"
   ]
  },
  {
   "cell_type": "code",
   "execution_count": 56,
   "id": "19efbfa0-0a94-4e6e-a596-e32e9b7f4b2e",
   "metadata": {},
   "outputs": [
    {
     "name": "stdin",
     "output_type": "stream",
     "text": [
      " 65\n"
     ]
    },
    {
     "name": "stdout",
     "output_type": "stream",
     "text": [
      "A\n"
     ]
    }
   ],
   "source": [
    "num = int(input())\n",
    "print(chr(num)) "
   ]
  },
  {
   "cell_type": "markdown",
   "id": "611938ad-f3c5-4ca0-95db-353a1fd33ea6",
   "metadata": {},
   "source": [
    "#### Задача №111318. Поиск подстроки"
   ]
  },
  {
   "cell_type": "code",
   "execution_count": 59,
   "id": "1cf908ed-a232-46e7-a4ca-04ae10d482b1",
   "metadata": {},
   "outputs": [
    {
     "name": "stdin",
     "output_type": "stream",
     "text": [
      " Hello\n",
      " hello\n"
     ]
    },
    {
     "name": "stdout",
     "output_type": "stream",
     "text": [
      "Hello\n"
     ]
    }
   ],
   "source": [
    "s1 = input()\n",
    "s2 = input()\n",
    "print(s1)\n"
   ]
  },
  {
   "cell_type": "markdown",
   "id": "94f78cad-9cbd-4af6-b937-bb38ae11b9b1",
   "metadata": {},
   "source": [
    "#### Задача №111318. Поиск подстроки"
   ]
  },
  {
   "cell_type": "code",
   "execution_count": 78,
   "id": "74d687d5-8d86-48ba-91e2-42247553d55e",
   "metadata": {},
   "outputs": [
    {
     "name": "stdin",
     "output_type": "stream",
     "text": [
      " hole on the ground\n"
     ]
    },
    {
     "name": "stdout",
     "output_type": "stream",
     "text": [
      "NO\n"
     ]
    }
   ],
   "source": [
    "string = 'In a hole in the ground there lived a hobbit.' \n",
    "substring = input() \n",
    "if substring in string: \n",
    "    print('YES') \n",
    "else : \n",
    "    print('NO')"
   ]
  }
 ],
 "metadata": {
  "kernelspec": {
   "display_name": "Python 3 (ipykernel)",
   "language": "python",
   "name": "python3"
  },
  "language_info": {
   "codemirror_mode": {
    "name": "ipython",
    "version": 3
   },
   "file_extension": ".py",
   "mimetype": "text/x-python",
   "name": "python",
   "nbconvert_exporter": "python",
   "pygments_lexer": "ipython3",
   "version": "3.10.9"
  }
 },
 "nbformat": 4,
 "nbformat_minor": 5
}
